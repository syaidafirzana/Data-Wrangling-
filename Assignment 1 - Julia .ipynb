{
 "cells": [
  {
   "cell_type": "markdown",
   "metadata": {},
   "source": [
    "# ASSIGNMENT 1 \n",
    "### Nur Syaida Firzana Mohamad Isham  66474666\n",
    "### Ngoc Ngan Huynh 64499983"
   ]
  },
  {
   "cell_type": "markdown",
   "metadata": {},
   "source": [
    "## Julia part (30 marks)"
   ]
  },
  {
   "cell_type": "markdown",
   "metadata": {},
   "source": [
    "In the folder `Penguin_data` you find two datasets (csv formatted files) about at-sea observations of seabirds dating from 1969 to 1990 in New Zealand. You can find more information here: https://catalogue.data.govt.nz/dataset/at-sea-observations-of-seabirds-1969-to-1990\n",
    "\n",
    "This is true-life messy data. Handle with care ;-)\n",
    "\n",
    "Your task for this part is to load the data, wrangle it a bit, and answer a couple of question.\n",
    "\n",
    "_hint_ this is the moment to go back to the Julia notebooks for lab 1 to 4."
   ]
  },
  {
   "cell_type": "markdown",
   "metadata": {},
   "source": [
    "### Load the data (5 marks)"
   ]
  },
  {
   "cell_type": "markdown",
   "metadata": {},
   "source": [
    "Load the two dataset into two separate data frames.\n",
    "\n",
    "_hint_ take a look at the package `CSV.jl` and `DataFrames.jl`."
   ]
  },
  {
   "cell_type": "code",
   "execution_count": 3,
   "metadata": {},
   "outputs": [],
   "source": [
    "using Pkg"
   ]
  },
  {
   "cell_type": "code",
   "execution_count": 6,
   "metadata": {},
   "outputs": [
    {
     "name": "stdout",
     "output_type": "stream",
     "text": [
      "\u001b[32m\u001b[1m Resolving\u001b[22m\u001b[39m package versions...\n",
      "\u001b[32m\u001b[1m  Updating\u001b[22m\u001b[39m `~/.julia/environments/v1.0/Project.toml`\n",
      "\u001b[90m [no changes]\u001b[39m\n",
      "\u001b[32m\u001b[1m  Updating\u001b[22m\u001b[39m `~/.julia/environments/v1.0/Manifest.toml`\n",
      "\u001b[90m [no changes]\u001b[39m\n",
      "\u001b[32m\u001b[1m Resolving\u001b[22m\u001b[39m package versions...\n",
      "\u001b[32m\u001b[1m  Updating\u001b[22m\u001b[39m `~/.julia/environments/v1.0/Project.toml`\n",
      "\u001b[90m [no changes]\u001b[39m\n",
      "\u001b[32m\u001b[1m  Updating\u001b[22m\u001b[39m `~/.julia/environments/v1.0/Manifest.toml`\n",
      "\u001b[90m [no changes]\u001b[39m\n",
      "\u001b[32m\u001b[1m Resolving\u001b[22m\u001b[39m package versions...\n",
      "\u001b[32m\u001b[1m  Updating\u001b[22m\u001b[39m `~/.julia/environments/v1.0/Project.toml`\n",
      "\u001b[90m [no changes]\u001b[39m\n",
      "\u001b[32m\u001b[1m  Updating\u001b[22m\u001b[39m `~/.julia/environments/v1.0/Manifest.toml`\n",
      "\u001b[90m [no changes]\u001b[39m\n",
      "\u001b[32m\u001b[1m Resolving\u001b[22m\u001b[39m package versions...\n",
      "\u001b[32m\u001b[1m Installed\u001b[22m\u001b[39m Showoff ─────────── v0.3.1\n",
      "\u001b[32m\u001b[1m Installed\u001b[22m\u001b[39m PlotUtils ───────── v1.0.5\n",
      "\u001b[32m\u001b[1m Installed\u001b[22m\u001b[39m FixedPointNumbers ─ v0.8.4\n",
      "\u001b[32m\u001b[1m Installed\u001b[22m\u001b[39m PlotThemes ──────── v2.0.0\n",
      "\u001b[32m\u001b[1m Installed\u001b[22m\u001b[39m NaNMath ─────────── v0.3.4\n",
      "\u001b[32m\u001b[1m Installed\u001b[22m\u001b[39m ColorTypes ──────── v0.10.8\n",
      "\u001b[32m\u001b[1m Installed\u001b[22m\u001b[39m RecipesPipeline ─── v0.1.12\n",
      "\u001b[32m\u001b[1m Installed\u001b[22m\u001b[39m Measures ────────── v0.3.1\n",
      "\u001b[32m\u001b[1m Installed\u001b[22m\u001b[39m GR ──────────────── v0.50.1\n",
      "\u001b[32m\u001b[1m Installed\u001b[22m\u001b[39m FFMPEG ──────────── v0.2.4\n",
      "\u001b[32m\u001b[1m Installed\u001b[22m\u001b[39m Plots ───────────── v1.4.3\n",
      "\u001b[32m\u001b[1m Installed\u001b[22m\u001b[39m GeometryTypes ───── v0.8.3\n",
      "\u001b[32m\u001b[1m Installed\u001b[22m\u001b[39m Colors ──────────── v0.12.3\n",
      "\u001b[32m\u001b[1m Installed\u001b[22m\u001b[39m Contour ─────────── v0.5.4\n",
      "\u001b[32m\u001b[1m Installed\u001b[22m\u001b[39m StaticArrays ────── v0.12.4\n",
      "\u001b[32m\u001b[1m Installed\u001b[22m\u001b[39m ColorSchemes ────── v3.9.0\n",
      "\u001b[32m\u001b[1m  Updating\u001b[22m\u001b[39m `~/.julia/environments/v1.0/Project.toml`\n",
      " \u001b[90m [91a5bcdd]\u001b[39m\u001b[92m + Plots v1.4.3\u001b[39m\n",
      "\u001b[32m\u001b[1m  Updating\u001b[22m\u001b[39m `~/.julia/environments/v1.0/Manifest.toml`\n",
      " \u001b[90m [35d6a980]\u001b[39m\u001b[92m + ColorSchemes v3.9.0\u001b[39m\n",
      " \u001b[90m [3da002f7]\u001b[39m\u001b[92m + ColorTypes v0.10.8\u001b[39m\n",
      " \u001b[90m [5ae59095]\u001b[39m\u001b[92m + Colors v0.12.3\u001b[39m\n",
      " \u001b[90m [d38c429a]\u001b[39m\u001b[92m + Contour v0.5.4\u001b[39m\n",
      " \u001b[90m [c87230d0]\u001b[39m\u001b[92m + FFMPEG v0.2.4\u001b[39m\n",
      " \u001b[90m [53c48c17]\u001b[39m\u001b[92m + FixedPointNumbers v0.8.4\u001b[39m\n",
      " \u001b[90m [28b8d3ca]\u001b[39m\u001b[92m + GR v0.50.1\u001b[39m\n",
      " \u001b[90m [4d00f742]\u001b[39m\u001b[92m + GeometryTypes v0.8.3\u001b[39m\n",
      " \u001b[90m [442fdcdd]\u001b[39m\u001b[92m + Measures v0.3.1\u001b[39m\n",
      " \u001b[90m [77ba4419]\u001b[39m\u001b[92m + NaNMath v0.3.4\u001b[39m\n",
      " \u001b[90m [ccf2f8ad]\u001b[39m\u001b[92m + PlotThemes v2.0.0\u001b[39m\n",
      " \u001b[90m [995b91a9]\u001b[39m\u001b[92m + PlotUtils v1.0.5\u001b[39m\n",
      " \u001b[90m [91a5bcdd]\u001b[39m\u001b[92m + Plots v1.4.3\u001b[39m\n",
      " \u001b[90m [01d81517]\u001b[39m\u001b[92m + RecipesPipeline v0.1.12\u001b[39m\n",
      " \u001b[90m [992d4aef]\u001b[39m\u001b[92m + Showoff v0.3.1\u001b[39m\n",
      " \u001b[90m [90137ffa]\u001b[39m\u001b[92m + StaticArrays v0.12.4\u001b[39m\n",
      "\u001b[32m\u001b[1m  Building\u001b[22m\u001b[39m FFMPEG → `~/.julia/packages/FFMPEG/guN1x/deps/build.log`\n",
      "\u001b[32m\u001b[1m  Building\u001b[22m\u001b[39m GR ────→ `~/.julia/packages/GR/Atztx/deps/build.log`\n",
      "\u001b[32m\u001b[1m  Building\u001b[22m\u001b[39m Plots ─→ `~/.julia/packages/Plots/E3MWZ/deps/build.log`\n"
     ]
    }
   ],
   "source": [
    "Pkg.add(\"CSV\")\n",
    "Pkg.add(\"DataFrames\")\n",
    "Pkg.add(\"Query\")\n",
    "Pkg.add(\"Plots\")\n",
    "#Pkg.add(\"VegaLite\")"
   ]
  },
  {
   "cell_type": "code",
   "execution_count": null,
   "metadata": {},
   "outputs": [],
   "source": [
    "#Pkg.build(\"NodeJS\")"
   ]
  },
  {
   "cell_type": "code",
   "execution_count": 1,
   "metadata": {},
   "outputs": [
    {
     "name": "stderr",
     "output_type": "stream",
     "text": [
      "┌ Info: Recompiling stale cache file /home/andy/.julia/compiled/v1.0/Plots/ld3vC.ji for Plots [91a5bcdd-55d7-5caf-9e0b-520d859cae80]\n",
      "└ @ Base loading.jl:1190\n"
     ]
    }
   ],
   "source": [
    "using CSV\n",
    "using DataFrames\n",
    "using Query\n",
    "using Plots\n",
    "#using VegaLite"
   ]
  },
  {
   "cell_type": "code",
   "execution_count": 2,
   "metadata": {},
   "outputs": [
    {
     "name": "stderr",
     "output_type": "stream",
     "text": [
      "┌ Warning: `CSV.read(input; kw...)` is deprecated in favor of `using DataFrames; CSV.read(input, DataFrame; kw...)\n",
      "│   caller = read(::String) at CSV.jl:40\n",
      "└ @ CSV /home/andy/.julia/packages/CSV/MKemC/src/CSV.jl:40\n"
     ]
    },
    {
     "data": {
      "text/html": [
       "<table class=\"data-frame\"><thead><tr><th></th><th>RECORD</th><th>RECORDID</th><th>SpeciesCommonName</th><th>SpeciesScientificName</th></tr><tr><th></th><th>Int64</th><th>Int64</th><th>String</th><th>String?</th></tr></thead><tbody><p>49,019 rows × 27 columns (omitted printing of 23 columns)</p><tr><th>1</th><td>1</td><td>1083001</td><td>Royal / Wandering albatross</td><td>Diomedea epomophora / sanfordi / antipodensis / exulans </td></tr><tr><th>2</th><td>2</td><td>1083001</td><td>Black-browed albatross sensu lato</td><td>Diomedea impavida / melanophrys</td></tr><tr><th>3</th><td>3</td><td>1083001</td><td>Cape petrel</td><td>Daption capense </td></tr><tr><th>4</th><td>4</td><td>1083001</td><td>Fairy prion</td><td>Pachyptila turtur </td></tr><tr><th>5</th><td>5</td><td>1083001</td><td>Sooty shearwater</td><td>Puffinus griseus </td></tr><tr><th>6</th><td>6</td><td>1084001</td><td>Royal albatross sensu lato </td><td>Diomedea epomophora / sanfordi</td></tr><tr><th>7</th><td>7</td><td>1084001</td><td>Black-browed albatross sensu lato</td><td>Diomedea impavida / melanophrys</td></tr><tr><th>8</th><td>8</td><td>1084001</td><td>Sooty shearwater</td><td>Puffinus griseus </td></tr><tr><th>9</th><td>9</td><td>1084002</td><td>Royal albatross sensu lato </td><td>Diomedea epomophora / sanfordi</td></tr><tr><th>10</th><td>10</td><td>1084002</td><td>Black-browed albatross sensu lato</td><td>Diomedea impavida / melanophrys</td></tr><tr><th>11</th><td>11</td><td>1084002</td><td>Cape petrel</td><td>Daption capense </td></tr><tr><th>12</th><td>12</td><td>1084002</td><td>Prion (unidentified)</td><td>Pachyptila sp</td></tr><tr><th>13</th><td>13</td><td>1084002</td><td>Sooty shearwater</td><td>Puffinus griseus </td></tr><tr><th>14</th><td>14</td><td>1084002</td><td>Seabird (Unidentified)</td><td><em>missing</em></td></tr><tr><th>15</th><td>15</td><td>1084003</td><td>Royal albatross sensu lato </td><td>Diomedea epomophora / sanfordi</td></tr><tr><th>16</th><td>16</td><td>1084003</td><td>Black-browed albatross sensu lato</td><td>Diomedea impavida / melanophrys</td></tr><tr><th>17</th><td>17</td><td>1084003</td><td>Giant petrel sensu lato</td><td>Macronectes sp.</td></tr><tr><th>18</th><td>18</td><td>1084003</td><td>Cape petrel</td><td>Daption capense </td></tr><tr><th>19</th><td>19</td><td>1084003</td><td>Fairy prion</td><td>Pachyptila turtur </td></tr><tr><th>20</th><td>20</td><td>1086001</td><td>Fairy prion</td><td>Pachyptila turtur </td></tr><tr><th>21</th><td>21</td><td>1086001</td><td>Black petrel</td><td>Procellaria parkinsoni </td></tr><tr><th>22</th><td>22</td><td>1086001</td><td>Australasian gannet</td><td>Morus serrator </td></tr><tr><th>23</th><td>23</td><td>1086002</td><td>Wilson's storm petrel</td><td>Oceanites oceanicus </td></tr><tr><th>24</th><td>24</td><td>1086002</td><td>Australasian gannet</td><td>Morus serrator </td></tr><tr><th>25</th><td>25</td><td>1086003</td><td>Wandering albatross sensu lato AD</td><td>Diomedea antipodensis / exulans AD</td></tr><tr><th>26</th><td>26</td><td>1086003</td><td>Wandering albatross sensu lato JUV</td><td>Diomedea antipodensis / exulans JUV</td></tr><tr><th>27</th><td>27</td><td>1086003</td><td>Royal albatross sensu lato AD</td><td>Diomedea epomophora / sanfordi AD</td></tr><tr><th>28</th><td>28</td><td>1086003</td><td>Northern giant petrel</td><td>Macronectes halli </td></tr><tr><th>29</th><td>29</td><td>1086003</td><td>White-chinned petrel</td><td>Procellaria aequinoctialis </td></tr><tr><th>30</th><td>30</td><td>1086003</td><td>Sooty shearwater</td><td>Puffinus griseus </td></tr><tr><th>&vellip;</th><td>&vellip;</td><td>&vellip;</td><td>&vellip;</td><td>&vellip;</td></tr></tbody></table>"
      ],
      "text/latex": [
       "\\begin{tabular}{r|ccccc}\n",
       "\t& RECORD & RECORDID & SpeciesCommonName & SpeciesScientificName & \\\\\n",
       "\t\\hline\n",
       "\t& Int64 & Int64 & String & String? & \\\\\n",
       "\t\\hline\n",
       "\t1 & 1 & 1083001 & Royal / Wandering albatross & Diomedea epomophora / sanfordi / antipodensis / exulans  & $\\dots$ \\\\\n",
       "\t2 & 2 & 1083001 & Black-browed albatross sensu lato & Diomedea impavida / melanophrys & $\\dots$ \\\\\n",
       "\t3 & 3 & 1083001 & Cape petrel & Daption capense  & $\\dots$ \\\\\n",
       "\t4 & 4 & 1083001 & Fairy prion & Pachyptila turtur  & $\\dots$ \\\\\n",
       "\t5 & 5 & 1083001 & Sooty shearwater & Puffinus griseus  & $\\dots$ \\\\\n",
       "\t6 & 6 & 1084001 & Royal albatross sensu lato  & Diomedea epomophora / sanfordi & $\\dots$ \\\\\n",
       "\t7 & 7 & 1084001 & Black-browed albatross sensu lato & Diomedea impavida / melanophrys & $\\dots$ \\\\\n",
       "\t8 & 8 & 1084001 & Sooty shearwater & Puffinus griseus  & $\\dots$ \\\\\n",
       "\t9 & 9 & 1084002 & Royal albatross sensu lato  & Diomedea epomophora / sanfordi & $\\dots$ \\\\\n",
       "\t10 & 10 & 1084002 & Black-browed albatross sensu lato & Diomedea impavida / melanophrys & $\\dots$ \\\\\n",
       "\t11 & 11 & 1084002 & Cape petrel & Daption capense  & $\\dots$ \\\\\n",
       "\t12 & 12 & 1084002 & Prion (unidentified) & Pachyptila sp & $\\dots$ \\\\\n",
       "\t13 & 13 & 1084002 & Sooty shearwater & Puffinus griseus  & $\\dots$ \\\\\n",
       "\t14 & 14 & 1084002 & Seabird (Unidentified) & \\emph{missing} & $\\dots$ \\\\\n",
       "\t15 & 15 & 1084003 & Royal albatross sensu lato  & Diomedea epomophora / sanfordi & $\\dots$ \\\\\n",
       "\t16 & 16 & 1084003 & Black-browed albatross sensu lato & Diomedea impavida / melanophrys & $\\dots$ \\\\\n",
       "\t17 & 17 & 1084003 & Giant petrel sensu lato & Macronectes sp. & $\\dots$ \\\\\n",
       "\t18 & 18 & 1084003 & Cape petrel & Daption capense  & $\\dots$ \\\\\n",
       "\t19 & 19 & 1084003 & Fairy prion & Pachyptila turtur  & $\\dots$ \\\\\n",
       "\t20 & 20 & 1086001 & Fairy prion & Pachyptila turtur  & $\\dots$ \\\\\n",
       "\t21 & 21 & 1086001 & Black petrel & Procellaria parkinsoni  & $\\dots$ \\\\\n",
       "\t22 & 22 & 1086001 & Australasian gannet & Morus serrator  & $\\dots$ \\\\\n",
       "\t23 & 23 & 1086002 & Wilson's storm petrel & Oceanites oceanicus  & $\\dots$ \\\\\n",
       "\t24 & 24 & 1086002 & Australasian gannet & Morus serrator  & $\\dots$ \\\\\n",
       "\t25 & 25 & 1086003 & Wandering albatross sensu lato AD & Diomedea antipodensis / exulans AD & $\\dots$ \\\\\n",
       "\t26 & 26 & 1086003 & Wandering albatross sensu lato JUV & Diomedea antipodensis / exulans JUV & $\\dots$ \\\\\n",
       "\t27 & 27 & 1086003 & Royal albatross sensu lato AD & Diomedea epomophora / sanfordi AD & $\\dots$ \\\\\n",
       "\t28 & 28 & 1086003 & Northern giant petrel & Macronectes halli  & $\\dots$ \\\\\n",
       "\t29 & 29 & 1086003 & White-chinned petrel & Procellaria aequinoctialis  & $\\dots$ \\\\\n",
       "\t30 & 30 & 1086003 & Sooty shearwater & Puffinus griseus  & $\\dots$ \\\\\n",
       "\t$\\dots$ & $\\dots$ & $\\dots$ & $\\dots$ & $\\dots$ &  \\\\\n",
       "\\end{tabular}\n"
      ],
      "text/plain": [
       "49019×27 DataFrame. Omitted printing of 24 columns\n",
       "│ Row   │ RECORD │ RECORDID │ SpeciesCommonName                 │\n",
       "│       │ \u001b[90mInt64\u001b[39m  │ \u001b[90mInt64\u001b[39m    │ \u001b[90mString\u001b[39m                            │\n",
       "├───────┼────────┼──────────┼───────────────────────────────────┤\n",
       "│ 1     │ 1      │ 1083001  │ Royal / Wandering albatross       │\n",
       "│ 2     │ 2      │ 1083001  │ Black-browed albatross sensu lato │\n",
       "│ 3     │ 3      │ 1083001  │ Cape petrel                       │\n",
       "│ 4     │ 4      │ 1083001  │ Fairy prion                       │\n",
       "│ 5     │ 5      │ 1083001  │ Sooty shearwater                  │\n",
       "│ 6     │ 6      │ 1084001  │ Royal albatross sensu lato        │\n",
       "│ 7     │ 7      │ 1084001  │ Black-browed albatross sensu lato │\n",
       "│ 8     │ 8      │ 1084001  │ Sooty shearwater                  │\n",
       "│ 9     │ 9      │ 1084002  │ Royal albatross sensu lato        │\n",
       "│ 10    │ 10     │ 1084002  │ Black-browed albatross sensu lato │\n",
       "⋮\n",
       "│ 49009 │ 49009  │ 88007034 │ Southern black-backed gull AD     │\n",
       "│ 49010 │ 49010  │ 88007034 │ Southern black-backed gull SUBAD  │\n",
       "│ 49011 │ 49011  │ 88007034 │ Red-billed gull                   │\n",
       "│ 49012 │ 49012  │ 88007035 │ Australasian gannet AD            │\n",
       "│ 49013 │ 49013  │ 88007035 │ Southern black-backed gull AD     │\n",
       "│ 49014 │ 49014  │ 88007035 │ Southern black-backed gull SUBAD  │\n",
       "│ 49015 │ 49015  │ 88007035 │ Red-billed gull                   │\n",
       "│ 49016 │ 49016  │ 88007036 │ Southern black-backed gull AD     │\n",
       "│ 49017 │ 49017  │ 88007036 │ Southern black-backed gull SUBAD  │\n",
       "│ 49018 │ 49018  │ 88007036 │ Red-billed gull                   │\n",
       "│ 49019 │ 49019  │ 88007036 │ White-fronted tern                │"
      ]
     },
     "execution_count": 2,
     "metadata": {},
     "output_type": "execute_result"
    }
   ],
   "source": [
    "B = CSV.read(\"bird.csv\") |> DataFrame"
   ]
  },
  {
   "cell_type": "code",
   "execution_count": 3,
   "metadata": {},
   "outputs": [
    {
     "data": {
      "text/html": [
       "<table class=\"data-frame\"><thead><tr><th></th><th>RECORD</th><th>RECORDID</th><th>DATE</th><th>TIME</th><th>LAT</th><th>LONG</th><th>EW</th><th>SACT</th><th>SPEED</th></tr><tr><th></th><th>Int64</th><th>Int64</th><th>String</th><th>Time…?</th><th>Float64?</th><th>Float64?</th><th>String?</th><th>Int64</th><th>Float64?</th></tr></thead><tbody><p>12,310 rows × 27 columns (omitted printing of 18 columns)</p><tr><th>1</th><td>1</td><td>1083001</td><td>15/10/1975</td><td>14:00:00</td><td>-45.917</td><td>165.4</td><td>E</td><td>1</td><td>15.0</td></tr><tr><th>2</th><td>2</td><td>1084001</td><td>3/11/1975</td><td>13:10:00</td><td>-35.533</td><td>125.0</td><td>E</td><td>1</td><td>14.0</td></tr><tr><th>3</th><td>3</td><td>1084002</td><td>4/11/1975</td><td>14:20:00</td><td>-37.667</td><td>132.25</td><td>E</td><td>1</td><td>14.5</td></tr><tr><th>4</th><td>4</td><td>1084003</td><td>8/11/1975</td><td>16:15:00</td><td>-40.0</td><td>162.0</td><td>E</td><td>1</td><td>14.6</td></tr><tr><th>5</th><td>5</td><td>1086001</td><td>16/11/1975</td><td>12:30:00</td><td>-36.167</td><td>174.917</td><td>E</td><td>1</td><td>15.0</td></tr><tr><th>6</th><td>6</td><td>1086002</td><td>16/11/1975</td><td>15:30:00</td><td>-35.417</td><td>174.567</td><td>E</td><td>1</td><td>15.0</td></tr><tr><th>7</th><td>7</td><td>1086003</td><td>17/11/1975</td><td>14:30:00</td><td>-35.25</td><td>168.0</td><td>E</td><td>1</td><td>15.0</td></tr><tr><th>8</th><td>8</td><td>1086004</td><td>17/11/1975</td><td>16:30:00</td><td>-35.3</td><td>167.333</td><td>E</td><td>1</td><td>15.0</td></tr><tr><th>9</th><td>9</td><td>1086005</td><td>18/11/1975</td><td>14:30:00</td><td>-36.5</td><td>161.0</td><td>E</td><td>1</td><td>15.0</td></tr><tr><th>10</th><td>10</td><td>1086006</td><td>18/11/1975</td><td>16:30:00</td><td>-36.333</td><td>160.5</td><td>E</td><td>1</td><td>15.0</td></tr><tr><th>11</th><td>11</td><td>1086007</td><td>20/11/1975</td><td>12:00:00</td><td>-39.183</td><td>146.283</td><td>E</td><td>1</td><td>15.0</td></tr><tr><th>12</th><td>12</td><td>1087001</td><td>22/11/1975</td><td>14:00:00</td><td><em>missing</em></td><td><em>missing</em></td><td><em>missing</em></td><td>1</td><td>15.0</td></tr><tr><th>13</th><td>13</td><td>1087002</td><td>23/11/1975</td><td>14:30:00</td><td>-39.667</td><td>154.167</td><td>E</td><td>1</td><td>15.0</td></tr><tr><th>14</th><td>14</td><td>1087003</td><td>23/11/1975</td><td>16:00:00</td><td>-39.667</td><td>155.0</td><td>E</td><td>1</td><td>15.0</td></tr><tr><th>15</th><td>15</td><td>1087004</td><td>24/11/1975</td><td>12:00:00</td><td>-39.85</td><td>161.933</td><td>E</td><td>1</td><td>15.0</td></tr><tr><th>16</th><td>16</td><td>1087005</td><td>24/11/1975</td><td>14:00:00</td><td>-39.933</td><td>162.083</td><td>E</td><td>1</td><td>15.0</td></tr><tr><th>17</th><td>17</td><td>1087006</td><td>24/11/1975</td><td>16:00:00</td><td>-40.0</td><td>164.0</td><td>E</td><td>1</td><td>15.0</td></tr><tr><th>18</th><td>18</td><td>1087007</td><td>24/11/1975</td><td>18:00:00</td><td>-40.0</td><td><em>missing</em></td><td><em>missing</em></td><td>1</td><td>15.0</td></tr><tr><th>19</th><td>19</td><td>1087008</td><td>25/11/1975</td><td>10:00:00</td><td>-40.1</td><td>167.5</td><td>E</td><td>1</td><td>15.0</td></tr><tr><th>20</th><td>20</td><td>1087009</td><td>25/11/1975</td><td>13:00:00</td><td>-40.167</td><td>168.667</td><td>E</td><td>1</td><td>15.0</td></tr><tr><th>21</th><td>21</td><td>1087010</td><td>25/11/1975</td><td>14:00:00</td><td>-40.2</td><td>169.083</td><td>E</td><td>1</td><td>15.0</td></tr><tr><th>22</th><td>22</td><td>1087011</td><td>25/11/1975</td><td>15:20:00</td><td>-40.217</td><td>169.5</td><td>E</td><td>1</td><td>15.0</td></tr><tr><th>23</th><td>23</td><td>1088001</td><td>9/11/1975</td><td>16:50:00</td><td>-33.0</td><td>152.0</td><td>E</td><td>1</td><td>10.0</td></tr><tr><th>24</th><td>24</td><td>1088002</td><td>9/11/1975</td><td>18:25:00</td><td>-33.0</td><td>152.0</td><td>E</td><td>1</td><td>10.0</td></tr><tr><th>25</th><td>25</td><td>1088003</td><td>9/11/1975</td><td><em>missing</em></td><td>-34.0</td><td>152.0</td><td>E</td><td>1</td><td>10.0</td></tr><tr><th>26</th><td>26</td><td>1088004</td><td>10/11/1975</td><td>07:15:00</td><td>-35.0</td><td>154.0</td><td>E</td><td>1</td><td>11.0</td></tr><tr><th>27</th><td>27</td><td>1088005</td><td>10/11/1975</td><td>10:45:00</td><td>-36.0</td><td>154.0</td><td>E</td><td>1</td><td>11.0</td></tr><tr><th>28</th><td>28</td><td>1088006</td><td>10/11/1975</td><td>16:05:00</td><td>-37.0</td><td>157.0</td><td>E</td><td>1</td><td><em>missing</em></td></tr><tr><th>29</th><td>29</td><td>1088007</td><td>11/11/1975</td><td>06:25:00</td><td>-39.0</td><td>158.0</td><td>E</td><td>1</td><td>11.0</td></tr><tr><th>30</th><td>30</td><td>1088008</td><td>11/11/1975</td><td>11:35:00</td><td>-40.0</td><td>158.0</td><td>E</td><td>1</td><td>11.0</td></tr><tr><th>&vellip;</th><td>&vellip;</td><td>&vellip;</td><td>&vellip;</td><td>&vellip;</td><td>&vellip;</td><td>&vellip;</td><td>&vellip;</td><td>&vellip;</td><td>&vellip;</td></tr></tbody></table>"
      ],
      "text/latex": [
       "\\begin{tabular}{r|cccccccccc}\n",
       "\t& RECORD & RECORDID & DATE & TIME & LAT & LONG & EW & SACT & SPEED & \\\\\n",
       "\t\\hline\n",
       "\t& Int64 & Int64 & String & Time…? & Float64? & Float64? & String? & Int64 & Float64? & \\\\\n",
       "\t\\hline\n",
       "\t1 & 1 & 1083001 & 15/10/1975 & 14:00:00 & -45.917 & 165.4 & E & 1 & 15.0 & $\\dots$ \\\\\n",
       "\t2 & 2 & 1084001 & 3/11/1975 & 13:10:00 & -35.533 & 125.0 & E & 1 & 14.0 & $\\dots$ \\\\\n",
       "\t3 & 3 & 1084002 & 4/11/1975 & 14:20:00 & -37.667 & 132.25 & E & 1 & 14.5 & $\\dots$ \\\\\n",
       "\t4 & 4 & 1084003 & 8/11/1975 & 16:15:00 & -40.0 & 162.0 & E & 1 & 14.6 & $\\dots$ \\\\\n",
       "\t5 & 5 & 1086001 & 16/11/1975 & 12:30:00 & -36.167 & 174.917 & E & 1 & 15.0 & $\\dots$ \\\\\n",
       "\t6 & 6 & 1086002 & 16/11/1975 & 15:30:00 & -35.417 & 174.567 & E & 1 & 15.0 & $\\dots$ \\\\\n",
       "\t7 & 7 & 1086003 & 17/11/1975 & 14:30:00 & -35.25 & 168.0 & E & 1 & 15.0 & $\\dots$ \\\\\n",
       "\t8 & 8 & 1086004 & 17/11/1975 & 16:30:00 & -35.3 & 167.333 & E & 1 & 15.0 & $\\dots$ \\\\\n",
       "\t9 & 9 & 1086005 & 18/11/1975 & 14:30:00 & -36.5 & 161.0 & E & 1 & 15.0 & $\\dots$ \\\\\n",
       "\t10 & 10 & 1086006 & 18/11/1975 & 16:30:00 & -36.333 & 160.5 & E & 1 & 15.0 & $\\dots$ \\\\\n",
       "\t11 & 11 & 1086007 & 20/11/1975 & 12:00:00 & -39.183 & 146.283 & E & 1 & 15.0 & $\\dots$ \\\\\n",
       "\t12 & 12 & 1087001 & 22/11/1975 & 14:00:00 & \\emph{missing} & \\emph{missing} & \\emph{missing} & 1 & 15.0 & $\\dots$ \\\\\n",
       "\t13 & 13 & 1087002 & 23/11/1975 & 14:30:00 & -39.667 & 154.167 & E & 1 & 15.0 & $\\dots$ \\\\\n",
       "\t14 & 14 & 1087003 & 23/11/1975 & 16:00:00 & -39.667 & 155.0 & E & 1 & 15.0 & $\\dots$ \\\\\n",
       "\t15 & 15 & 1087004 & 24/11/1975 & 12:00:00 & -39.85 & 161.933 & E & 1 & 15.0 & $\\dots$ \\\\\n",
       "\t16 & 16 & 1087005 & 24/11/1975 & 14:00:00 & -39.933 & 162.083 & E & 1 & 15.0 & $\\dots$ \\\\\n",
       "\t17 & 17 & 1087006 & 24/11/1975 & 16:00:00 & -40.0 & 164.0 & E & 1 & 15.0 & $\\dots$ \\\\\n",
       "\t18 & 18 & 1087007 & 24/11/1975 & 18:00:00 & -40.0 & \\emph{missing} & \\emph{missing} & 1 & 15.0 & $\\dots$ \\\\\n",
       "\t19 & 19 & 1087008 & 25/11/1975 & 10:00:00 & -40.1 & 167.5 & E & 1 & 15.0 & $\\dots$ \\\\\n",
       "\t20 & 20 & 1087009 & 25/11/1975 & 13:00:00 & -40.167 & 168.667 & E & 1 & 15.0 & $\\dots$ \\\\\n",
       "\t21 & 21 & 1087010 & 25/11/1975 & 14:00:00 & -40.2 & 169.083 & E & 1 & 15.0 & $\\dots$ \\\\\n",
       "\t22 & 22 & 1087011 & 25/11/1975 & 15:20:00 & -40.217 & 169.5 & E & 1 & 15.0 & $\\dots$ \\\\\n",
       "\t23 & 23 & 1088001 & 9/11/1975 & 16:50:00 & -33.0 & 152.0 & E & 1 & 10.0 & $\\dots$ \\\\\n",
       "\t24 & 24 & 1088002 & 9/11/1975 & 18:25:00 & -33.0 & 152.0 & E & 1 & 10.0 & $\\dots$ \\\\\n",
       "\t25 & 25 & 1088003 & 9/11/1975 & \\emph{missing} & -34.0 & 152.0 & E & 1 & 10.0 & $\\dots$ \\\\\n",
       "\t26 & 26 & 1088004 & 10/11/1975 & 07:15:00 & -35.0 & 154.0 & E & 1 & 11.0 & $\\dots$ \\\\\n",
       "\t27 & 27 & 1088005 & 10/11/1975 & 10:45:00 & -36.0 & 154.0 & E & 1 & 11.0 & $\\dots$ \\\\\n",
       "\t28 & 28 & 1088006 & 10/11/1975 & 16:05:00 & -37.0 & 157.0 & E & 1 & \\emph{missing} & $\\dots$ \\\\\n",
       "\t29 & 29 & 1088007 & 11/11/1975 & 06:25:00 & -39.0 & 158.0 & E & 1 & 11.0 & $\\dots$ \\\\\n",
       "\t30 & 30 & 1088008 & 11/11/1975 & 11:35:00 & -40.0 & 158.0 & E & 1 & 11.0 & $\\dots$ \\\\\n",
       "\t$\\dots$ & $\\dots$ & $\\dots$ & $\\dots$ & $\\dots$ & $\\dots$ & $\\dots$ & $\\dots$ & $\\dots$ & $\\dots$ &  \\\\\n",
       "\\end{tabular}\n"
      ],
      "text/plain": [
       "12310×27 DataFrame. Omitted printing of 21 columns\n",
       "│ Row   │ RECORD │ RECORDID │ DATE       │ TIME     │ LAT      │ LONG     │\n",
       "│       │ \u001b[90mInt64\u001b[39m  │ \u001b[90mInt64\u001b[39m    │ \u001b[90mString\u001b[39m     │ \u001b[90mTime…?\u001b[39m   │ \u001b[90mFloat64?\u001b[39m │ \u001b[90mFloat64?\u001b[39m │\n",
       "├───────┼────────┼──────────┼────────────┼──────────┼──────────┼──────────┤\n",
       "│ 1     │ 1      │ 1083001  │ 15/10/1975 │ 14:00:00 │ -45.917  │ 165.4    │\n",
       "│ 2     │ 2      │ 1084001  │ 3/11/1975  │ 13:10:00 │ -35.533  │ 125.0    │\n",
       "│ 3     │ 3      │ 1084002  │ 4/11/1975  │ 14:20:00 │ -37.667  │ 132.25   │\n",
       "│ 4     │ 4      │ 1084003  │ 8/11/1975  │ 16:15:00 │ -40.0    │ 162.0    │\n",
       "│ 5     │ 5      │ 1086001  │ 16/11/1975 │ 12:30:00 │ -36.167  │ 174.917  │\n",
       "│ 6     │ 6      │ 1086002  │ 16/11/1975 │ 15:30:00 │ -35.417  │ 174.567  │\n",
       "│ 7     │ 7      │ 1086003  │ 17/11/1975 │ 14:30:00 │ -35.25   │ 168.0    │\n",
       "│ 8     │ 8      │ 1086004  │ 17/11/1975 │ 16:30:00 │ -35.3    │ 167.333  │\n",
       "│ 9     │ 9      │ 1086005  │ 18/11/1975 │ 14:30:00 │ -36.5    │ 161.0    │\n",
       "│ 10    │ 10     │ 1086006  │ 18/11/1975 │ 16:30:00 │ -36.333  │ 160.5    │\n",
       "⋮\n",
       "│ 12300 │ 12300  │ 88007026 │ 6/06/1988  │ 15:15:00 │ -35.183  │ 174.383  │\n",
       "│ 12301 │ 12301  │ 88007027 │ 6/06/1988  │ 15:30:00 │ -35.217  │ 174.417  │\n",
       "│ 12302 │ 12302  │ 88007028 │ 6/06/1988  │ 15:45:00 │ -35.267  │ 174.467  │\n",
       "│ 12303 │ 12303  │ 88007029 │ 6/06/1988  │ 16:00:00 │ -35.35   │ 174.5    │\n",
       "│ 12304 │ 12304  │ 88007030 │ 6/06/1988  │ 17:00:00 │ -35.567  │ 174.6    │\n",
       "│ 12305 │ 12305  │ 88007031 │ 7/06/1988  │ 08:00:00 │ -35.883  │ 174.55   │\n",
       "│ 12306 │ 12306  │ 88007032 │ 7/06/1988  │ 09:00:00 │ -35.883  │ 174.55   │\n",
       "│ 12307 │ 12307  │ 88007033 │ 7/06/1988  │ 09:30:00 │ -35.883  │ 174.55   │\n",
       "│ 12308 │ 12308  │ 88007034 │ 7/06/1988  │ 11:00:00 │ -35.883  │ 174.55   │\n",
       "│ 12309 │ 12309  │ 88007035 │ 7/06/1988  │ 12:00:00 │ -35.883  │ 174.55   │\n",
       "│ 12310 │ 12310  │ 88007036 │ 7/06/1988  │ 13:30:00 │ -35.883  │ 174.55   │"
      ]
     },
     "execution_count": 3,
     "metadata": {},
     "output_type": "execute_result"
    }
   ],
   "source": [
    "S = CSV.read(\"ship.csv\") |> DataFrame\n"
   ]
  },
  {
   "cell_type": "markdown",
   "metadata": {},
   "source": [
    "### Join the data (5 marks)"
   ]
  },
  {
   "cell_type": "markdown",
   "metadata": {},
   "source": [
    "Join the two dataframes into one.\n",
    "\n",
    "_hint_ there is one column being an ID: which one?"
   ]
  },
  {
   "cell_type": "code",
   "execution_count": 4,
   "metadata": {},
   "outputs": [
    {
     "data": {
      "text/html": [
       "<table class=\"data-frame\"><thead><tr><th></th><th>RECORD</th><th>RECORDID</th><th>SpeciesCommonName</th><th>SpeciesScientificName</th></tr><tr><th></th><th>Int64?</th><th>Int64</th><th>String?</th><th>String?</th></tr></thead><tbody><p>49,020 rows × 53 columns (omitted printing of 49 columns)</p><tr><th>1</th><td>1</td><td>1083001</td><td>Royal / Wandering albatross</td><td>Diomedea epomophora / sanfordi / antipodensis / exulans </td></tr><tr><th>2</th><td>2</td><td>1083001</td><td>Black-browed albatross sensu lato</td><td>Diomedea impavida / melanophrys</td></tr><tr><th>3</th><td>3</td><td>1083001</td><td>Cape petrel</td><td>Daption capense </td></tr><tr><th>4</th><td>4</td><td>1083001</td><td>Fairy prion</td><td>Pachyptila turtur </td></tr><tr><th>5</th><td>5</td><td>1083001</td><td>Sooty shearwater</td><td>Puffinus griseus </td></tr><tr><th>6</th><td>6</td><td>1084001</td><td>Royal albatross sensu lato </td><td>Diomedea epomophora / sanfordi</td></tr><tr><th>7</th><td>7</td><td>1084001</td><td>Black-browed albatross sensu lato</td><td>Diomedea impavida / melanophrys</td></tr><tr><th>8</th><td>8</td><td>1084001</td><td>Sooty shearwater</td><td>Puffinus griseus </td></tr><tr><th>9</th><td>9</td><td>1084002</td><td>Royal albatross sensu lato </td><td>Diomedea epomophora / sanfordi</td></tr><tr><th>10</th><td>10</td><td>1084002</td><td>Black-browed albatross sensu lato</td><td>Diomedea impavida / melanophrys</td></tr><tr><th>11</th><td>11</td><td>1084002</td><td>Cape petrel</td><td>Daption capense </td></tr><tr><th>12</th><td>12</td><td>1084002</td><td>Prion (unidentified)</td><td>Pachyptila sp</td></tr><tr><th>13</th><td>13</td><td>1084002</td><td>Sooty shearwater</td><td>Puffinus griseus </td></tr><tr><th>14</th><td>14</td><td>1084002</td><td>Seabird (Unidentified)</td><td><em>missing</em></td></tr><tr><th>15</th><td>15</td><td>1084003</td><td>Royal albatross sensu lato </td><td>Diomedea epomophora / sanfordi</td></tr><tr><th>16</th><td>16</td><td>1084003</td><td>Black-browed albatross sensu lato</td><td>Diomedea impavida / melanophrys</td></tr><tr><th>17</th><td>17</td><td>1084003</td><td>Giant petrel sensu lato</td><td>Macronectes sp.</td></tr><tr><th>18</th><td>18</td><td>1084003</td><td>Cape petrel</td><td>Daption capense </td></tr><tr><th>19</th><td>19</td><td>1084003</td><td>Fairy prion</td><td>Pachyptila turtur </td></tr><tr><th>20</th><td>20</td><td>1086001</td><td>Fairy prion</td><td>Pachyptila turtur </td></tr><tr><th>21</th><td>21</td><td>1086001</td><td>Black petrel</td><td>Procellaria parkinsoni </td></tr><tr><th>22</th><td>22</td><td>1086001</td><td>Australasian gannet</td><td>Morus serrator </td></tr><tr><th>23</th><td>23</td><td>1086002</td><td>Wilson's storm petrel</td><td>Oceanites oceanicus </td></tr><tr><th>24</th><td>24</td><td>1086002</td><td>Australasian gannet</td><td>Morus serrator </td></tr><tr><th>25</th><td>25</td><td>1086003</td><td>Wandering albatross sensu lato AD</td><td>Diomedea antipodensis / exulans AD</td></tr><tr><th>26</th><td>26</td><td>1086003</td><td>Wandering albatross sensu lato JUV</td><td>Diomedea antipodensis / exulans JUV</td></tr><tr><th>27</th><td>27</td><td>1086003</td><td>Royal albatross sensu lato AD</td><td>Diomedea epomophora / sanfordi AD</td></tr><tr><th>28</th><td>28</td><td>1086003</td><td>Northern giant petrel</td><td>Macronectes halli </td></tr><tr><th>29</th><td>29</td><td>1086003</td><td>White-chinned petrel</td><td>Procellaria aequinoctialis </td></tr><tr><th>30</th><td>30</td><td>1086003</td><td>Sooty shearwater</td><td>Puffinus griseus </td></tr><tr><th>&vellip;</th><td>&vellip;</td><td>&vellip;</td><td>&vellip;</td><td>&vellip;</td></tr></tbody></table>"
      ],
      "text/latex": [
       "\\begin{tabular}{r|ccccc}\n",
       "\t& RECORD & RECORDID & SpeciesCommonName & SpeciesScientificName & \\\\\n",
       "\t\\hline\n",
       "\t& Int64? & Int64 & String? & String? & \\\\\n",
       "\t\\hline\n",
       "\t1 & 1 & 1083001 & Royal / Wandering albatross & Diomedea epomophora / sanfordi / antipodensis / exulans  & $\\dots$ \\\\\n",
       "\t2 & 2 & 1083001 & Black-browed albatross sensu lato & Diomedea impavida / melanophrys & $\\dots$ \\\\\n",
       "\t3 & 3 & 1083001 & Cape petrel & Daption capense  & $\\dots$ \\\\\n",
       "\t4 & 4 & 1083001 & Fairy prion & Pachyptila turtur  & $\\dots$ \\\\\n",
       "\t5 & 5 & 1083001 & Sooty shearwater & Puffinus griseus  & $\\dots$ \\\\\n",
       "\t6 & 6 & 1084001 & Royal albatross sensu lato  & Diomedea epomophora / sanfordi & $\\dots$ \\\\\n",
       "\t7 & 7 & 1084001 & Black-browed albatross sensu lato & Diomedea impavida / melanophrys & $\\dots$ \\\\\n",
       "\t8 & 8 & 1084001 & Sooty shearwater & Puffinus griseus  & $\\dots$ \\\\\n",
       "\t9 & 9 & 1084002 & Royal albatross sensu lato  & Diomedea epomophora / sanfordi & $\\dots$ \\\\\n",
       "\t10 & 10 & 1084002 & Black-browed albatross sensu lato & Diomedea impavida / melanophrys & $\\dots$ \\\\\n",
       "\t11 & 11 & 1084002 & Cape petrel & Daption capense  & $\\dots$ \\\\\n",
       "\t12 & 12 & 1084002 & Prion (unidentified) & Pachyptila sp & $\\dots$ \\\\\n",
       "\t13 & 13 & 1084002 & Sooty shearwater & Puffinus griseus  & $\\dots$ \\\\\n",
       "\t14 & 14 & 1084002 & Seabird (Unidentified) & \\emph{missing} & $\\dots$ \\\\\n",
       "\t15 & 15 & 1084003 & Royal albatross sensu lato  & Diomedea epomophora / sanfordi & $\\dots$ \\\\\n",
       "\t16 & 16 & 1084003 & Black-browed albatross sensu lato & Diomedea impavida / melanophrys & $\\dots$ \\\\\n",
       "\t17 & 17 & 1084003 & Giant petrel sensu lato & Macronectes sp. & $\\dots$ \\\\\n",
       "\t18 & 18 & 1084003 & Cape petrel & Daption capense  & $\\dots$ \\\\\n",
       "\t19 & 19 & 1084003 & Fairy prion & Pachyptila turtur  & $\\dots$ \\\\\n",
       "\t20 & 20 & 1086001 & Fairy prion & Pachyptila turtur  & $\\dots$ \\\\\n",
       "\t21 & 21 & 1086001 & Black petrel & Procellaria parkinsoni  & $\\dots$ \\\\\n",
       "\t22 & 22 & 1086001 & Australasian gannet & Morus serrator  & $\\dots$ \\\\\n",
       "\t23 & 23 & 1086002 & Wilson's storm petrel & Oceanites oceanicus  & $\\dots$ \\\\\n",
       "\t24 & 24 & 1086002 & Australasian gannet & Morus serrator  & $\\dots$ \\\\\n",
       "\t25 & 25 & 1086003 & Wandering albatross sensu lato AD & Diomedea antipodensis / exulans AD & $\\dots$ \\\\\n",
       "\t26 & 26 & 1086003 & Wandering albatross sensu lato JUV & Diomedea antipodensis / exulans JUV & $\\dots$ \\\\\n",
       "\t27 & 27 & 1086003 & Royal albatross sensu lato AD & Diomedea epomophora / sanfordi AD & $\\dots$ \\\\\n",
       "\t28 & 28 & 1086003 & Northern giant petrel & Macronectes halli  & $\\dots$ \\\\\n",
       "\t29 & 29 & 1086003 & White-chinned petrel & Procellaria aequinoctialis  & $\\dots$ \\\\\n",
       "\t30 & 30 & 1086003 & Sooty shearwater & Puffinus griseus  & $\\dots$ \\\\\n",
       "\t$\\dots$ & $\\dots$ & $\\dots$ & $\\dots$ & $\\dots$ &  \\\\\n",
       "\\end{tabular}\n"
      ],
      "text/plain": [
       "49020×53 DataFrame. Omitted printing of 50 columns\n",
       "│ Row   │ RECORD  │ RECORDID │ SpeciesCommonName                 │\n",
       "│       │ \u001b[90mInt64?\u001b[39m  │ \u001b[90mInt64\u001b[39m    │ \u001b[90mUnion{Missing, String}\u001b[39m            │\n",
       "├───────┼─────────┼──────────┼───────────────────────────────────┤\n",
       "│ 1     │ 1       │ 1083001  │ Royal / Wandering albatross       │\n",
       "│ 2     │ 2       │ 1083001  │ Black-browed albatross sensu lato │\n",
       "│ 3     │ 3       │ 1083001  │ Cape petrel                       │\n",
       "│ 4     │ 4       │ 1083001  │ Fairy prion                       │\n",
       "│ 5     │ 5       │ 1083001  │ Sooty shearwater                  │\n",
       "│ 6     │ 6       │ 1084001  │ Royal albatross sensu lato        │\n",
       "│ 7     │ 7       │ 1084001  │ Black-browed albatross sensu lato │\n",
       "│ 8     │ 8       │ 1084001  │ Sooty shearwater                  │\n",
       "│ 9     │ 9       │ 1084002  │ Royal albatross sensu lato        │\n",
       "│ 10    │ 10      │ 1084002  │ Black-browed albatross sensu lato │\n",
       "⋮\n",
       "│ 49010 │ 49010   │ 88007034 │ Southern black-backed gull SUBAD  │\n",
       "│ 49011 │ 49011   │ 88007034 │ Red-billed gull                   │\n",
       "│ 49012 │ 49012   │ 88007035 │ Australasian gannet AD            │\n",
       "│ 49013 │ 49013   │ 88007035 │ Southern black-backed gull AD     │\n",
       "│ 49014 │ 49014   │ 88007035 │ Southern black-backed gull SUBAD  │\n",
       "│ 49015 │ 49015   │ 88007035 │ Red-billed gull                   │\n",
       "│ 49016 │ 49016   │ 88007036 │ Southern black-backed gull AD     │\n",
       "│ 49017 │ 49017   │ 88007036 │ Southern black-backed gull SUBAD  │\n",
       "│ 49018 │ 49018   │ 88007036 │ Red-billed gull                   │\n",
       "│ 49019 │ 49019   │ 88007036 │ White-fronted tern                │\n",
       "│ 49020 │ \u001b[90mmissing\u001b[39m │ 1104009  │ \u001b[90mmissing\u001b[39m                           │"
      ]
     },
     "execution_count": 4,
     "metadata": {},
     "output_type": "execute_result"
    }
   ],
   "source": [
    "J = outerjoin(B,S, on=:RECORDID,makeunique=true) |> DataFrame"
   ]
  },
  {
   "cell_type": "code",
   "execution_count": 5,
   "metadata": {},
   "outputs": [
    {
     "data": {
      "text/html": [
       "<table class=\"data-frame\"><thead><tr><th></th><th>RECORD</th><th>RECORDID</th><th>SpeciesCommonName</th><th>SpeciesScientificName</th></tr><tr><th></th><th>Int64?</th><th>Int64</th><th>String?</th><th>String?</th></tr></thead><tbody><p>49,019 rows × 53 columns (omitted printing of 49 columns)</p><tr><th>1</th><td>1</td><td>1083001</td><td>Royal / Wandering albatross</td><td>Diomedea epomophora / sanfordi / antipodensis / exulans </td></tr><tr><th>2</th><td>2</td><td>1083001</td><td>Black-browed albatross sensu lato</td><td>Diomedea impavida / melanophrys</td></tr><tr><th>3</th><td>3</td><td>1083001</td><td>Cape petrel</td><td>Daption capense </td></tr><tr><th>4</th><td>4</td><td>1083001</td><td>Fairy prion</td><td>Pachyptila turtur </td></tr><tr><th>5</th><td>5</td><td>1083001</td><td>Sooty shearwater</td><td>Puffinus griseus </td></tr><tr><th>6</th><td>6</td><td>1084001</td><td>Royal albatross sensu lato </td><td>Diomedea epomophora / sanfordi</td></tr><tr><th>7</th><td>7</td><td>1084001</td><td>Black-browed albatross sensu lato</td><td>Diomedea impavida / melanophrys</td></tr><tr><th>8</th><td>8</td><td>1084001</td><td>Sooty shearwater</td><td>Puffinus griseus </td></tr><tr><th>9</th><td>9</td><td>1084002</td><td>Royal albatross sensu lato </td><td>Diomedea epomophora / sanfordi</td></tr><tr><th>10</th><td>10</td><td>1084002</td><td>Black-browed albatross sensu lato</td><td>Diomedea impavida / melanophrys</td></tr><tr><th>11</th><td>11</td><td>1084002</td><td>Cape petrel</td><td>Daption capense </td></tr><tr><th>12</th><td>12</td><td>1084002</td><td>Prion (unidentified)</td><td>Pachyptila sp</td></tr><tr><th>13</th><td>13</td><td>1084002</td><td>Sooty shearwater</td><td>Puffinus griseus </td></tr><tr><th>14</th><td>14</td><td>1084002</td><td>Seabird (Unidentified)</td><td><em>missing</em></td></tr><tr><th>15</th><td>15</td><td>1084003</td><td>Royal albatross sensu lato </td><td>Diomedea epomophora / sanfordi</td></tr><tr><th>16</th><td>16</td><td>1084003</td><td>Black-browed albatross sensu lato</td><td>Diomedea impavida / melanophrys</td></tr><tr><th>17</th><td>17</td><td>1084003</td><td>Giant petrel sensu lato</td><td>Macronectes sp.</td></tr><tr><th>18</th><td>18</td><td>1084003</td><td>Cape petrel</td><td>Daption capense </td></tr><tr><th>19</th><td>19</td><td>1084003</td><td>Fairy prion</td><td>Pachyptila turtur </td></tr><tr><th>20</th><td>20</td><td>1086001</td><td>Fairy prion</td><td>Pachyptila turtur </td></tr><tr><th>21</th><td>21</td><td>1086001</td><td>Black petrel</td><td>Procellaria parkinsoni </td></tr><tr><th>22</th><td>22</td><td>1086001</td><td>Australasian gannet</td><td>Morus serrator </td></tr><tr><th>23</th><td>23</td><td>1086002</td><td>Wilson's storm petrel</td><td>Oceanites oceanicus </td></tr><tr><th>24</th><td>24</td><td>1086002</td><td>Australasian gannet</td><td>Morus serrator </td></tr><tr><th>25</th><td>25</td><td>1086003</td><td>Wandering albatross sensu lato AD</td><td>Diomedea antipodensis / exulans AD</td></tr><tr><th>26</th><td>26</td><td>1086003</td><td>Wandering albatross sensu lato JUV</td><td>Diomedea antipodensis / exulans JUV</td></tr><tr><th>27</th><td>27</td><td>1086003</td><td>Royal albatross sensu lato AD</td><td>Diomedea epomophora / sanfordi AD</td></tr><tr><th>28</th><td>28</td><td>1086003</td><td>Northern giant petrel</td><td>Macronectes halli </td></tr><tr><th>29</th><td>29</td><td>1086003</td><td>White-chinned petrel</td><td>Procellaria aequinoctialis </td></tr><tr><th>30</th><td>30</td><td>1086003</td><td>Sooty shearwater</td><td>Puffinus griseus </td></tr><tr><th>&vellip;</th><td>&vellip;</td><td>&vellip;</td><td>&vellip;</td><td>&vellip;</td></tr></tbody></table>"
      ],
      "text/latex": [
       "\\begin{tabular}{r|ccccc}\n",
       "\t& RECORD & RECORDID & SpeciesCommonName & SpeciesScientificName & \\\\\n",
       "\t\\hline\n",
       "\t& Int64? & Int64 & String? & String? & \\\\\n",
       "\t\\hline\n",
       "\t1 & 1 & 1083001 & Royal / Wandering albatross & Diomedea epomophora / sanfordi / antipodensis / exulans  & $\\dots$ \\\\\n",
       "\t2 & 2 & 1083001 & Black-browed albatross sensu lato & Diomedea impavida / melanophrys & $\\dots$ \\\\\n",
       "\t3 & 3 & 1083001 & Cape petrel & Daption capense  & $\\dots$ \\\\\n",
       "\t4 & 4 & 1083001 & Fairy prion & Pachyptila turtur  & $\\dots$ \\\\\n",
       "\t5 & 5 & 1083001 & Sooty shearwater & Puffinus griseus  & $\\dots$ \\\\\n",
       "\t6 & 6 & 1084001 & Royal albatross sensu lato  & Diomedea epomophora / sanfordi & $\\dots$ \\\\\n",
       "\t7 & 7 & 1084001 & Black-browed albatross sensu lato & Diomedea impavida / melanophrys & $\\dots$ \\\\\n",
       "\t8 & 8 & 1084001 & Sooty shearwater & Puffinus griseus  & $\\dots$ \\\\\n",
       "\t9 & 9 & 1084002 & Royal albatross sensu lato  & Diomedea epomophora / sanfordi & $\\dots$ \\\\\n",
       "\t10 & 10 & 1084002 & Black-browed albatross sensu lato & Diomedea impavida / melanophrys & $\\dots$ \\\\\n",
       "\t11 & 11 & 1084002 & Cape petrel & Daption capense  & $\\dots$ \\\\\n",
       "\t12 & 12 & 1084002 & Prion (unidentified) & Pachyptila sp & $\\dots$ \\\\\n",
       "\t13 & 13 & 1084002 & Sooty shearwater & Puffinus griseus  & $\\dots$ \\\\\n",
       "\t14 & 14 & 1084002 & Seabird (Unidentified) & \\emph{missing} & $\\dots$ \\\\\n",
       "\t15 & 15 & 1084003 & Royal albatross sensu lato  & Diomedea epomophora / sanfordi & $\\dots$ \\\\\n",
       "\t16 & 16 & 1084003 & Black-browed albatross sensu lato & Diomedea impavida / melanophrys & $\\dots$ \\\\\n",
       "\t17 & 17 & 1084003 & Giant petrel sensu lato & Macronectes sp. & $\\dots$ \\\\\n",
       "\t18 & 18 & 1084003 & Cape petrel & Daption capense  & $\\dots$ \\\\\n",
       "\t19 & 19 & 1084003 & Fairy prion & Pachyptila turtur  & $\\dots$ \\\\\n",
       "\t20 & 20 & 1086001 & Fairy prion & Pachyptila turtur  & $\\dots$ \\\\\n",
       "\t21 & 21 & 1086001 & Black petrel & Procellaria parkinsoni  & $\\dots$ \\\\\n",
       "\t22 & 22 & 1086001 & Australasian gannet & Morus serrator  & $\\dots$ \\\\\n",
       "\t23 & 23 & 1086002 & Wilson's storm petrel & Oceanites oceanicus  & $\\dots$ \\\\\n",
       "\t24 & 24 & 1086002 & Australasian gannet & Morus serrator  & $\\dots$ \\\\\n",
       "\t25 & 25 & 1086003 & Wandering albatross sensu lato AD & Diomedea antipodensis / exulans AD & $\\dots$ \\\\\n",
       "\t26 & 26 & 1086003 & Wandering albatross sensu lato JUV & Diomedea antipodensis / exulans JUV & $\\dots$ \\\\\n",
       "\t27 & 27 & 1086003 & Royal albatross sensu lato AD & Diomedea epomophora / sanfordi AD & $\\dots$ \\\\\n",
       "\t28 & 28 & 1086003 & Northern giant petrel & Macronectes halli  & $\\dots$ \\\\\n",
       "\t29 & 29 & 1086003 & White-chinned petrel & Procellaria aequinoctialis  & $\\dots$ \\\\\n",
       "\t30 & 30 & 1086003 & Sooty shearwater & Puffinus griseus  & $\\dots$ \\\\\n",
       "\t$\\dots$ & $\\dots$ & $\\dots$ & $\\dots$ & $\\dots$ &  \\\\\n",
       "\\end{tabular}\n"
      ],
      "text/plain": [
       "49019×53 DataFrame. Omitted printing of 50 columns\n",
       "│ Row   │ RECORD  │ RECORDID │ SpeciesCommonName                 │\n",
       "│       │ \u001b[90mInt64?\u001b[39m  │ \u001b[90mInt64\u001b[39m    │ \u001b[90mUnion{Missing, String}\u001b[39m            │\n",
       "├───────┼─────────┼──────────┼───────────────────────────────────┤\n",
       "│ 1     │ 1       │ 1083001  │ Royal / Wandering albatross       │\n",
       "│ 2     │ 2       │ 1083001  │ Black-browed albatross sensu lato │\n",
       "│ 3     │ 3       │ 1083001  │ Cape petrel                       │\n",
       "│ 4     │ 4       │ 1083001  │ Fairy prion                       │\n",
       "│ 5     │ 5       │ 1083001  │ Sooty shearwater                  │\n",
       "│ 6     │ 6       │ 1084001  │ Royal albatross sensu lato        │\n",
       "│ 7     │ 7       │ 1084001  │ Black-browed albatross sensu lato │\n",
       "│ 8     │ 8       │ 1084001  │ Sooty shearwater                  │\n",
       "│ 9     │ 9       │ 1084002  │ Royal albatross sensu lato        │\n",
       "│ 10    │ 10      │ 1084002  │ Black-browed albatross sensu lato │\n",
       "⋮\n",
       "│ 49009 │ 49010   │ 88007034 │ Southern black-backed gull SUBAD  │\n",
       "│ 49010 │ 49011   │ 88007034 │ Red-billed gull                   │\n",
       "│ 49011 │ 49012   │ 88007035 │ Australasian gannet AD            │\n",
       "│ 49012 │ 49013   │ 88007035 │ Southern black-backed gull AD     │\n",
       "│ 49013 │ 49014   │ 88007035 │ Southern black-backed gull SUBAD  │\n",
       "│ 49014 │ 49015   │ 88007035 │ Red-billed gull                   │\n",
       "│ 49015 │ 49016   │ 88007036 │ Southern black-backed gull AD     │\n",
       "│ 49016 │ 49017   │ 88007036 │ Southern black-backed gull SUBAD  │\n",
       "│ 49017 │ 49018   │ 88007036 │ Red-billed gull                   │\n",
       "│ 49018 │ 49019   │ 88007036 │ White-fronted tern                │\n",
       "│ 49019 │ \u001b[90mmissing\u001b[39m │ 1104009  │ \u001b[90mmissing\u001b[39m                           │"
      ]
     },
     "execution_count": 5,
     "metadata": {},
     "output_type": "execute_result"
    }
   ],
   "source": [
    "J = dropmissing(J, :DATE)"
   ]
  },
  {
   "cell_type": "code",
   "execution_count": 6,
   "metadata": {},
   "outputs": [
    {
     "data": {
      "text/plain": [
       "49019-element Array{String,1}:\n",
       " \"spring\"\n",
       " \"spring\"\n",
       " \"spring\"\n",
       " \"spring\"\n",
       " \"spring\"\n",
       " \"spring\"\n",
       " \"spring\"\n",
       " \"spring\"\n",
       " \"spring\"\n",
       " \"spring\"\n",
       " \"spring\"\n",
       " \"spring\"\n",
       " \"spring\"\n",
       " ⋮       \n",
       " \"winter\"\n",
       " \"winter\"\n",
       " \"winter\"\n",
       " \"winter\"\n",
       " \"winter\"\n",
       " \"winter\"\n",
       " \"winter\"\n",
       " \"winter\"\n",
       " \"winter\"\n",
       " \"winter\"\n",
       " \"winter\"\n",
       " \"spring\""
      ]
     },
     "execution_count": 6,
     "metadata": {},
     "output_type": "execute_result"
    }
   ],
   "source": [
    "# Convert some colums to string for using later\n",
    "\n",
    "J[!,:SpeciesScientificName]= string.(J[!,:SpeciesScientificName])\n",
    "J[!,:SpeciesAbbreviation]= string.(J[!,:SpeciesAbbreviation])\n",
    "J[!,:SEASN]= string.(J[!,:SEASN])\n",
    "#J[!,:DATE]= string.(J[!,:DATE])"
   ]
  },
  {
   "cell_type": "markdown",
   "metadata": {},
   "source": [
    "### Question 1 (10 marks)"
   ]
  },
  {
   "cell_type": "markdown",
   "metadata": {},
   "source": [
    "In which season would say we see more Little penguins?\n",
    "\n",
    "_hint_ their scientific name is _Eudyptula minor_ and their Species abbreviation is \"EUDMIN\".\n",
    "\n",
    "_hint_ you may want to use the package `Query.jl`."
   ]
  },
  {
   "cell_type": "code",
   "execution_count": 7,
   "metadata": {},
   "outputs": [
    {
     "data": {
      "application/vnd.dataresource+json": {
       "data": [
        {
         "SEASN": "summer",
         "Total": 24
        },
        {
         "SEASN": "autumn",
         "Total": null
        },
        {
         "SEASN": "winter",
         "Total": null
        },
        {
         "SEASN": "spring",
         "Total": 3
        }
       ],
       "schema": {
        "fields": [
         {
          "name": "SEASN",
          "type": "string"
         },
         {
          "name": "Total",
          "type": "integer"
         }
        ]
       }
      },
      "text/html": [
       "<table><thead><tr><th>SEASN</th><th>Total</th></tr></thead><tbody><tr><td>&quot;summer&quot;</td><td>24</td></tr><tr><td>&quot;autumn&quot;</td><td>#NA</td></tr><tr><td>&quot;winter&quot;</td><td>#NA</td></tr><tr><td>&quot;spring&quot;</td><td>3</td></tr></tbody></table>"
      ],
      "text/plain": [
       "4x2 query result\n",
       "SEASN  │ Total\n",
       "───────┼──────\n",
       "summer │ 24   \n",
       "autumn │ \u001b[90m#NA  \u001b[39m\n",
       "winter │ \u001b[90m#NA  \u001b[39m\n",
       "spring │ 3    "
      ]
     },
     "execution_count": 7,
     "metadata": {},
     "output_type": "execute_result"
    }
   ],
   "source": [
    "J |> \n",
    "    @filter(_.SpeciesScientificName .== \"Eudyptula minor \" ) |> DataFrame |> \n",
    "        @groupby(_.SEASN)|> \n",
    "            @map({SEASN = key(_), Total = sum(_.COUNT)})\n"
   ]
  },
  {
   "cell_type": "markdown",
   "metadata": {},
   "source": [
    "# LITTLE PENGUINES SHOW UP MORE ON SUMMER"
   ]
  },
  {
   "cell_type": "markdown",
   "metadata": {},
   "source": [
    "### Question 2 (10 marks)"
   ]
  },
  {
   "cell_type": "markdown",
   "metadata": {},
   "source": [
    "How does the sighting of penguins (not just Little penguins, but all penguins species) change by year? Make a plot to show it."
   ]
  },
  {
   "cell_type": "code",
   "execution_count": 10,
   "metadata": {},
   "outputs": [
    {
     "name": "stdout",
     "output_type": "stream",
     "text": [
      "\u001b[32m\u001b[1m  Updating\u001b[22m\u001b[39m registry at `~/.julia/registries/General`\n",
      "\u001b[32m\u001b[1m  Updating\u001b[22m\u001b[39m git-repo `https://github.com/JuliaRegistries/General.git`\n",
      "\u001b[?25l\u001b[2K\u001b[?25h\u001b[32m\u001b[1m Resolving\u001b[22m\u001b[39m package versions...\n",
      "\u001b[32m\u001b[1m  Updating\u001b[22m\u001b[39m `~/.julia/environments/v1.0/Project.toml`\n",
      "\u001b[90m [no changes]\u001b[39m\n",
      "\u001b[32m\u001b[1m  Updating\u001b[22m\u001b[39m `~/.julia/environments/v1.0/Manifest.toml`\n",
      "\u001b[90m [no changes]\u001b[39m\n"
     ]
    }
   ],
   "source": [
    "Pkg.add(\"Dates\")"
   ]
  },
  {
   "cell_type": "code",
   "execution_count": 13,
   "metadata": {},
   "outputs": [],
   "source": [
    "using Dates"
   ]
  },
  {
   "cell_type": "code",
   "execution_count": 14,
   "metadata": {},
   "outputs": [
    {
     "data": {
      "text/plain": [
       "49019-element Array{Int64,1}:\n",
       " 1975\n",
       " 1975\n",
       " 1975\n",
       " 1975\n",
       " 1975\n",
       " 1975\n",
       " 1975\n",
       " 1975\n",
       " 1975\n",
       " 1975\n",
       " 1975\n",
       " 1975\n",
       " 1975\n",
       "    ⋮\n",
       " 1988\n",
       " 1988\n",
       " 1988\n",
       " 1988\n",
       " 1988\n",
       " 1988\n",
       " 1988\n",
       " 1988\n",
       " 1988\n",
       " 1988\n",
       " 1988\n",
       " 1975"
      ]
     },
     "execution_count": 14,
     "metadata": {},
     "output_type": "execute_result"
    }
   ],
   "source": [
    "J.YEAR = Dates.year.(Date.(J.DATE,\"dd/mm/yyyy\"))"
   ]
  },
  {
   "cell_type": "code",
   "execution_count": 20,
   "metadata": {},
   "outputs": [
    {
     "data": {
      "text/html": [
       "<table class=\"data-frame\"><thead><tr><th></th><th>YEAR</th><th>Total</th></tr><tr><th></th><th>Int64</th><th>Int64?</th></tr></thead><tbody><p>17 rows × 2 columns</p><tr><th>1</th><td>1975</td><td><em>missing</em></td></tr><tr><th>2</th><td>1976</td><td><em>missing</em></td></tr><tr><th>3</th><td>1977</td><td><em>missing</em></td></tr><tr><th>4</th><td>1978</td><td><em>missing</em></td></tr><tr><th>5</th><td>1979</td><td><em>missing</em></td></tr><tr><th>6</th><td>1980</td><td><em>missing</em></td></tr><tr><th>7</th><td>1981</td><td><em>missing</em></td></tr><tr><th>8</th><td>1982</td><td><em>missing</em></td></tr><tr><th>9</th><td>1983</td><td><em>missing</em></td></tr><tr><th>10</th><td>1984</td><td><em>missing</em></td></tr><tr><th>11</th><td>1985</td><td><em>missing</em></td></tr><tr><th>12</th><td>1986</td><td><em>missing</em></td></tr><tr><th>13</th><td>1987</td><td><em>missing</em></td></tr><tr><th>14</th><td>1988</td><td><em>missing</em></td></tr><tr><th>15</th><td>1989</td><td><em>missing</em></td></tr><tr><th>16</th><td>1990</td><td>1352</td></tr><tr><th>17</th><td>1969</td><td><em>missing</em></td></tr></tbody></table>"
      ],
      "text/latex": [
       "\\begin{tabular}{r|cc}\n",
       "\t& YEAR & Total\\\\\n",
       "\t\\hline\n",
       "\t& Int64 & Int64?\\\\\n",
       "\t\\hline\n",
       "\t1 & 1975 & \\emph{missing} \\\\\n",
       "\t2 & 1976 & \\emph{missing} \\\\\n",
       "\t3 & 1977 & \\emph{missing} \\\\\n",
       "\t4 & 1978 & \\emph{missing} \\\\\n",
       "\t5 & 1979 & \\emph{missing} \\\\\n",
       "\t6 & 1980 & \\emph{missing} \\\\\n",
       "\t7 & 1981 & \\emph{missing} \\\\\n",
       "\t8 & 1982 & \\emph{missing} \\\\\n",
       "\t9 & 1983 & \\emph{missing} \\\\\n",
       "\t10 & 1984 & \\emph{missing} \\\\\n",
       "\t11 & 1985 & \\emph{missing} \\\\\n",
       "\t12 & 1986 & \\emph{missing} \\\\\n",
       "\t13 & 1987 & \\emph{missing} \\\\\n",
       "\t14 & 1988 & \\emph{missing} \\\\\n",
       "\t15 & 1989 & \\emph{missing} \\\\\n",
       "\t16 & 1990 & 1352 \\\\\n",
       "\t17 & 1969 & \\emph{missing} \\\\\n",
       "\\end{tabular}\n"
      ],
      "text/plain": [
       "17×2 DataFrame\n",
       "│ Row │ YEAR  │ Total   │\n",
       "│     │ \u001b[90mInt64\u001b[39m │ \u001b[90mInt64?\u001b[39m  │\n",
       "├─────┼───────┼─────────┤\n",
       "│ 1   │ 1975  │ \u001b[90mmissing\u001b[39m │\n",
       "│ 2   │ 1976  │ \u001b[90mmissing\u001b[39m │\n",
       "│ 3   │ 1977  │ \u001b[90mmissing\u001b[39m │\n",
       "│ 4   │ 1978  │ \u001b[90mmissing\u001b[39m │\n",
       "│ 5   │ 1979  │ \u001b[90mmissing\u001b[39m │\n",
       "│ 6   │ 1980  │ \u001b[90mmissing\u001b[39m │\n",
       "│ 7   │ 1981  │ \u001b[90mmissing\u001b[39m │\n",
       "│ 8   │ 1982  │ \u001b[90mmissing\u001b[39m │\n",
       "│ 9   │ 1983  │ \u001b[90mmissing\u001b[39m │\n",
       "│ 10  │ 1984  │ \u001b[90mmissing\u001b[39m │\n",
       "│ 11  │ 1985  │ \u001b[90mmissing\u001b[39m │\n",
       "│ 12  │ 1986  │ \u001b[90mmissing\u001b[39m │\n",
       "│ 13  │ 1987  │ \u001b[90mmissing\u001b[39m │\n",
       "│ 14  │ 1988  │ \u001b[90mmissing\u001b[39m │\n",
       "│ 15  │ 1989  │ \u001b[90mmissing\u001b[39m │\n",
       "│ 16  │ 1990  │ 1352    │\n",
       "│ 17  │ 1969  │ \u001b[90mmissing\u001b[39m │"
      ]
     },
     "execution_count": 20,
     "metadata": {},
     "output_type": "execute_result"
    }
   ],
   "source": [
    "I = J |> \n",
    "    @groupby(_.YEAR)|>  \n",
    "            @map({YEAR = key(_), Total = sum(skipmissing(_.COUNT))}) |> DataFrame\n"
   ]
  },
  {
   "cell_type": "code",
   "execution_count": 4,
   "metadata": {},
   "outputs": [
    {
     "name": "stdout",
     "output_type": "stream",
     "text": [
      "\u001b[32m\u001b[1m  Updating\u001b[22m\u001b[39m registry at `~/.julia/registries/General`\n",
      "\u001b[32m\u001b[1m  Updating\u001b[22m\u001b[39m git-repo `https://github.com/JuliaRegistries/General.git`\n",
      "\u001b[2K\u001b[?25h[1mFetching:\u001b[22m\u001b[39m [========================================>]  100.0 %.0 %\u001b[36m\u001b[1mFetching:\u001b[22m\u001b[39m [=====================================>   ]  92.0 %\u001b[32m\u001b[1m Resolving\u001b[22m\u001b[39m package versions...\n",
      "\u001b[32m\u001b[1m  Updating\u001b[22m\u001b[39m `~/.julia/environments/v1.0/Project.toml`\n",
      "\u001b[90m [no changes]\u001b[39m\n",
      "\u001b[32m\u001b[1m  Updating\u001b[22m\u001b[39m `~/.julia/environments/v1.0/Manifest.toml`\n",
      "\u001b[90m [no changes]\u001b[39m\n"
     ]
    }
   ],
   "source": [
    "Pkg.add(\"VegaLite\")"
   ]
  },
  {
   "cell_type": "code",
   "execution_count": 6,
   "metadata": {},
   "outputs": [
    {
     "name": "stdout",
     "output_type": "stream",
     "text": [
      "\u001b[32m\u001b[1m  Building\u001b[22m\u001b[39m NodeJS → `~/.julia/packages/NodeJS/aDNbW/deps/build.log`\n"
     ]
    },
    {
     "name": "stderr",
     "output_type": "stream",
     "text": [
      "┌ Error: Error building `NodeJS`: \n",
      "│   % Total    % Received % Xferd  Average Speed   Time    Time     Time  Current\n",
      "│                                  Dload  Upload   Total   Spent    Left  Speed\n",
      "  0     0    0     0    0     0      0      0 --:--:-- --:--:-- --:--:--     0\n",
      "│ curl: (22) The requested URL returned error: 404 \n",
      "│ [ Info: Downloading Node.js binary\n",
      "│ ERROR: LoadError: failed process: Process(`curl -g -L -f -o node-v12.13.0-linux-x86.tar.xz https://nodejs.org/dist/v12.13.0/node-v12.13.0-linux-x86.tar.xz`, ProcessExited(22)) [22]\n",
      "│ Stacktrace:\n",
      "│  [1] error(::String, ::Base.Process, ::String, ::Int64, ::String) at ./error.jl:42\n",
      "│  [2] pipeline_error at ./process.jl:705 [inlined]\n",
      "│  [3] #run#505(::Bool, ::Function, ::Cmd) at ./process.jl:663\n",
      "│  [4] run at ./process.jl:661 [inlined]\n",
      "│  [5] download(::String, ::String) at ./download.jl:27\n",
      "│  [6] (::getfield(Main, Symbol(\"##3#4\")))() at /home/andy/.julia/packages/NodeJS/aDNbW/deps/build.jl:74\n",
      "│  [7] cd(::getfield(Main, Symbol(\"##3#4\")), ::String) at ./file.jl:96\n",
      "│  [8] top-level scope at /home/andy/.julia/packages/NodeJS/aDNbW/deps/build.jl:72\n",
      "│  [9] include at ./boot.jl:317 [inlined]\n",
      "│  [10] include_relative(::Module, ::String) at ./loading.jl:1044\n",
      "│  [11] include(::Module, ::String) at ./sysimg.jl:29\n",
      "│  [12] include(::String) at ./client.jl:392\n",
      "│  [13] top-level scope at none:0\n",
      "│ in expression starting at /home/andy/.julia/packages/NodeJS/aDNbW/deps/build.jl:66\n",
      "└ @ Pkg.Operations /buildworker/worker/package_linux32/build/usr/share/julia/stdlib/v1.0/Pkg/src/Operations.jl:1096\n"
     ]
    }
   ],
   "source": [
    "Pkg.build(\"NodeJS\")"
   ]
  },
  {
   "cell_type": "code",
   "execution_count": 7,
   "metadata": {},
   "outputs": [
    {
     "name": "stderr",
     "output_type": "stream",
     "text": [
      "┌ Info: Precompiling VegaLite [112f6efa-9a02-5b7d-90c0-432ed331239a]\n",
      "└ @ Base loading.jl:1192\n",
      "ERROR: LoadError: NodeJS not properly installed. Please run\n",
      "Pkg.build(\"NodeJS\")\n",
      "Stacktrace:\n",
      " [1] error(::String) at ./error.jl:33\n",
      " [2] top-level scope at /home/andy/.julia/packages/NodeJS/aDNbW/src/NodeJS.jl:7\n",
      " [3] include at ./boot.jl:317 [inlined]\n",
      " [4] include_relative(::Module, ::String) at ./loading.jl:1044\n",
      " [5] include(::Module, ::String) at ./sysimg.jl:29\n",
      " [6] top-level scope at none:2\n",
      " [7] eval at ./boot.jl:319 [inlined]\n",
      " [8] eval(::Expr) at ./client.jl:393\n",
      " [9] top-level scope at ./none:3\n",
      "in expression starting at /home/andy/.julia/packages/NodeJS/aDNbW/src/NodeJS.jl:6\n",
      "ERROR: LoadError: Failed to precompile NodeJS [2bd173c7-0d6d-553b-b6af-13a54713934c] to /home/andy/.julia/compiled/v1.0/NodeJS/A9Jiy.ji.\n",
      "Stacktrace:\n",
      " [1] error(::String) at ./error.jl:33\n",
      " [2] compilecache(::Base.PkgId, ::String) at ./loading.jl:1203\n",
      " [3] _require(::Base.PkgId) at ./loading.jl:960\n",
      " [4] require(::Base.PkgId) at ./loading.jl:858\n",
      " [5] require(::Module, ::Symbol) at ./loading.jl:853\n",
      " [6] include at ./boot.jl:317 [inlined]\n",
      " [7] include_relative(::Module, ::String) at ./loading.jl:1044\n",
      " [8] include(::Module, ::String) at ./sysimg.jl:29\n",
      " [9] top-level scope at none:2\n",
      " [10] eval at ./boot.jl:319 [inlined]\n",
      " [11] eval(::Expr) at ./client.jl:393\n",
      " [12] top-level scope at ./none:3\n",
      "in expression starting at /home/andy/.julia/packages/VegaLite/CzoMX/src/VegaLite.jl:3\n"
     ]
    },
    {
     "ename": "ErrorException",
     "evalue": "Failed to precompile VegaLite [112f6efa-9a02-5b7d-90c0-432ed331239a] to /home/andy/.julia/compiled/v1.0/VegaLite/lrJqi.ji.",
     "output_type": "error",
     "traceback": [
      "Failed to precompile VegaLite [112f6efa-9a02-5b7d-90c0-432ed331239a] to /home/andy/.julia/compiled/v1.0/VegaLite/lrJqi.ji.",
      "",
      "Stacktrace:",
      " [1] error(::String) at ./error.jl:33",
      " [2] compilecache(::Base.PkgId, ::String) at ./loading.jl:1203",
      " [3] _require(::Base.PkgId) at ./loading.jl:960",
      " [4] require(::Base.PkgId) at ./loading.jl:858",
      " [5] require(::Module, ::Symbol) at ./loading.jl:853",
      " [6] top-level scope at In[7]:1"
     ]
    }
   ],
   "source": [
    "using VegaLite\n"
   ]
  }
 ],
 "metadata": {
  "kernelspec": {
   "display_name": "Julia 1.4.2",
   "language": "julia",
   "name": "julia-1.4"
  },
  "language_info": {
   "file_extension": ".jl",
   "mimetype": "application/julia",
   "name": "julia",
   "version": "1.4.2"
  }
 },
 "nbformat": 4,
 "nbformat_minor": 4
}
